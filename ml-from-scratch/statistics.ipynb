{
 "cells": [
  {
   "metadata": {
    "ExecuteTime": {
     "end_time": "2025-01-05T17:06:03.779942Z",
     "start_time": "2025-01-05T17:06:03.771700Z"
    }
   },
   "cell_type": "code",
   "source": [
    "from statistics import variance\n",
    "\n",
    "variance([1, 2, 3, 4, 5]), variance([1, 2, 3])"
   ],
   "id": "cfa7dbd95e6f781e",
   "outputs": [
    {
     "data": {
      "text/plain": [
       "(2.5, 1)"
      ]
     },
     "execution_count": 1,
     "metadata": {},
     "output_type": "execute_result"
    }
   ],
   "execution_count": 1
  },
  {
   "metadata": {
    "ExecuteTime": {
     "end_time": "2025-01-05T17:06:03.950665Z",
     "start_time": "2025-01-05T17:06:03.793132Z"
    }
   },
   "cell_type": "code",
   "source": [
    "from statistics import standard_deviation\n",
    "\n",
    "standard_deviation([1, 2, 3, 4, 5, 6, 7, 8, 9, 10])"
   ],
   "id": "64e45943752c29c4",
   "outputs": [
    {
     "ename": "ImportError",
     "evalue": "cannot import name 'standard_deviation' from 'statistics' (/usr/local/Cellar/python@3.12/3.12.3/Frameworks/Python.framework/Versions/3.12/lib/python3.12/statistics.py)",
     "output_type": "error",
     "traceback": [
      "\u001B[0;31m---------------------------------------------------------------------------\u001B[0m",
      "\u001B[0;31mImportError\u001B[0m                               Traceback (most recent call last)",
      "Cell \u001B[0;32mIn[2], line 1\u001B[0m\n\u001B[0;32m----> 1\u001B[0m \u001B[38;5;28;01mfrom\u001B[39;00m \u001B[38;5;21;01mstatistics\u001B[39;00m \u001B[38;5;28;01mimport\u001B[39;00m standard_deviation\n\u001B[1;32m      3\u001B[0m standard_deviation([\u001B[38;5;241m1\u001B[39m, \u001B[38;5;241m2\u001B[39m, \u001B[38;5;241m3\u001B[39m, \u001B[38;5;241m4\u001B[39m, \u001B[38;5;241m5\u001B[39m, \u001B[38;5;241m6\u001B[39m, \u001B[38;5;241m7\u001B[39m, \u001B[38;5;241m8\u001B[39m, \u001B[38;5;241m9\u001B[39m, \u001B[38;5;241m10\u001B[39m])\n",
      "\u001B[0;31mImportError\u001B[0m: cannot import name 'standard_deviation' from 'statistics' (/usr/local/Cellar/python@3.12/3.12.3/Frameworks/Python.framework/Versions/3.12/lib/python3.12/statistics.py)"
     ]
    }
   ],
   "execution_count": 2
  },
  {
   "metadata": {
    "ExecuteTime": {
     "end_time": "2025-01-05T17:06:03.952415Z",
     "start_time": "2025-01-05T16:59:27.658222Z"
    }
   },
   "cell_type": "code",
   "source": [
    "from statistics import covariance\n",
    "\n",
    "(covariance([1, 2, 3], [3, 4, 15]),\n",
    " covariance([1, 2, 3], [-1, -2, -3]))"
   ],
   "id": "f9272b2678fd404b",
   "outputs": [
    {
     "data": {
      "text/plain": [
       "(6.0, -1.0)"
      ]
     },
     "execution_count": 14,
     "metadata": {},
     "output_type": "execute_result"
    }
   ],
   "execution_count": 14
  },
  {
   "metadata": {
    "ExecuteTime": {
     "end_time": "2025-01-05T17:06:03.959699Z",
     "start_time": "2025-01-05T16:58:41.351889Z"
    }
   },
   "cell_type": "code",
   "source": [
    "from statistics import correlation\n",
    "\n",
    "(correlation([1, 2, 3], [3, 4, 5]),\n",
    " correlation([1, 2, 3], [3, 4, 15]),\n",
    " correlation([1, 2, 3], [-1, -2, -3]))"
   ],
   "id": "228c7bc7478ff973",
   "outputs": [
    {
     "data": {
      "text/plain": [
       "(1.0, 0.9011271137791659, -1.0)"
      ]
     },
     "execution_count": 12,
     "metadata": {},
     "output_type": "execute_result"
    }
   ],
   "execution_count": 12
  },
  {
   "metadata": {},
   "cell_type": "markdown",
   "source": "## Correlation",
   "id": "75b4159b2d1137e1"
  },
  {
   "metadata": {
    "ExecuteTime": {
     "end_time": "2025-01-05T17:06:51.900912Z",
     "start_time": "2025-01-05T17:06:51.881526Z"
    }
   },
   "cell_type": "code",
   "source": [
    "from statistics import num_friends\n",
    "\n",
    "outlier = num_friends.index(100)"
   ],
   "id": "8ba0958c2bf0445f",
   "outputs": [
    {
     "ename": "ImportError",
     "evalue": "cannot import name 'num_friends' from 'statistics' (/usr/local/Cellar/python@3.12/3.12.3/Frameworks/Python.framework/Versions/3.12/lib/python3.12/statistics.py)",
     "output_type": "error",
     "traceback": [
      "\u001B[0;31m---------------------------------------------------------------------------\u001B[0m",
      "\u001B[0;31mImportError\u001B[0m                               Traceback (most recent call last)",
      "Cell \u001B[0;32mIn[3], line 1\u001B[0m\n\u001B[0;32m----> 1\u001B[0m \u001B[38;5;28;01mfrom\u001B[39;00m \u001B[38;5;21;01mstatistics\u001B[39;00m \u001B[38;5;28;01mimport\u001B[39;00m num_friends\n\u001B[1;32m      3\u001B[0m outlier \u001B[38;5;241m=\u001B[39m num_friends\u001B[38;5;241m.\u001B[39mindex(\u001B[38;5;241m100\u001B[39m)\n",
      "\u001B[0;31mImportError\u001B[0m: cannot import name 'num_friends' from 'statistics' (/usr/local/Cellar/python@3.12/3.12.3/Frameworks/Python.framework/Versions/3.12/lib/python3.12/statistics.py)"
     ]
    }
   ],
   "execution_count": 3
  },
  {
   "metadata": {},
   "cell_type": "code",
   "outputs": [],
   "execution_count": null,
   "source": "",
   "id": "81f4f5fd88217057"
  }
 ],
 "metadata": {
  "kernelspec": {
   "display_name": "Python 3",
   "language": "python",
   "name": "python3"
  },
  "language_info": {
   "codemirror_mode": {
    "name": "ipython",
    "version": 2
   },
   "file_extension": ".py",
   "mimetype": "text/x-python",
   "name": "python",
   "nbconvert_exporter": "python",
   "pygments_lexer": "ipython2",
   "version": "2.7.6"
  }
 },
 "nbformat": 4,
 "nbformat_minor": 5
}
