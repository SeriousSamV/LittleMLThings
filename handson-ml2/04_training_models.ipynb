{
 "cells": [
  {
   "metadata": {},
   "cell_type": "markdown",
   "source": "# Training Models",
   "id": "84050ea249f7b913"
  },
  {
   "metadata": {},
   "cell_type": "markdown",
   "source": [
    "## Linear Regression\n",
    "\n",
    "`y_hat = Hypothesis_fn(x) = Model_param_vector . x`\n",
    "\n",
    "where,\n",
    "\n",
    "* `Model_param_vector` contains the bias term and the feature weights\n",
    "* `x` is the instance's `feature vector`\n",
    "* `Model_param_vector . x` is the dot product of both\n"
   ],
   "id": "c73524896549666f"
  },
  {
   "metadata": {},
   "cell_type": "markdown",
   "source": [
    "### The Normal Equation\n",
    "\n",
    "![The normal equation Illustration](img/normal_eq_illus.png)"
   ],
   "id": "5a515d10823d09d6"
  },
  {
   "cell_type": "code",
   "id": "initial_id",
   "metadata": {
    "collapsed": true,
    "ExecuteTime": {
     "end_time": "2024-12-24T07:57:54.249923Z",
     "start_time": "2024-12-24T07:57:54.180918Z"
    }
   },
   "source": [
    "import numpy as np\n",
    "\n",
    "X = 2 * np.random.rand(100, 1)\n",
    "y = 4 + 3 * X + np.random.randn(100, 1)  # y = 4 + 3x + gaussian_noice"
   ],
   "outputs": [],
   "execution_count": 1
  },
  {
   "metadata": {
    "ExecuteTime": {
     "end_time": "2024-12-24T07:57:54.731021Z",
     "start_time": "2024-12-24T07:57:54.262146Z"
    }
   },
   "cell_type": "code",
   "source": [
    "import matplotlib.pyplot as plt\n",
    "plt.plot(X, y, \"b.\")\n",
    "plt.xlabel(\"$x_1$\", fontsize=18)\n",
    "plt.ylabel(\"$y$\", rotation=0, fontsize=18)\n",
    "plt.show()"
   ],
   "id": "8bd5b564f0bb624",
   "outputs": [
    {
     "data": {
      "text/plain": [
       "<Figure size 640x480 with 1 Axes>"
      ],
      "image/png": "[encoded data removed]"
     },
     "metadata": {},
     "output_type": "display_data"
    }
   ],
   "execution_count": 2
  },
  {
   "metadata": {},
   "cell_type": "markdown",
   "source": "Now let's compute Theta using the Normal Equation.",
   "id": "ec9a222330b406e8"
  },
  {
   "metadata": {
    "ExecuteTime": {
     "end_time": "2024-12-24T07:57:54.837718Z",
     "start_time": "2024-12-24T07:57:54.834036Z"
    }
   },
   "cell_type": "code",
   "source": [
    "X_b = np.c_[np.ones((100, 1)), X]  # add x0 = 1 to each instance\n",
    "theta_best = np.linalg.inv(X_b.T.dot(X_b)).dot(X_b.T).dot(y)\n",
    "theta_best"
   ],
   "id": "cd73dc6f0a04588b",
   "outputs": [
    {
     "data": {
      "text/plain": [
       "array([[4.16890474],\n",
       "       [3.01342408]])"
      ]
     },
     "execution_count": 3,
     "metadata": {},
     "output_type": "execute_result"
    }
   ],
   "execution_count": 3
  },
  {
   "metadata": {
    "ExecuteTime": {
     "end_time": "2024-12-24T07:58:09.844533Z",
     "start_time": "2024-12-24T07:58:09.841434Z"
    }
   },
   "cell_type": "code",
   "source": "X.shape, X_b.shape, y.shape, theta_best.shape",
   "id": "752d951c881d2da8",
   "outputs": [
    {
     "data": {
      "text/plain": [
       "((100, 1), (100, 2), (100, 1), (2, 1))"
      ]
     },
     "execution_count": 10,
     "metadata": {},
     "output_type": "execute_result"
    }
   ],
   "execution_count": 10
  },
  {
   "metadata": {
    "ExecuteTime": {
     "end_time": "2024-12-24T07:59:24.603270Z",
     "start_time": "2024-12-24T07:59:24.598529Z"
    }
   },
   "cell_type": "code",
   "source": "X_b",
   "id": "73eabc1051a53106",
   "outputs": [
    {
     "data": {
      "text/plain": [
       "array([[1.        , 0.07930257],\n",
       "       [1.        , 1.6289756 ],\n",
       "       [1.        , 0.1565797 ],\n",
       "       [1.        , 1.25671682],\n",
       "       [1.        , 1.90441748],\n",
       "       [1.        , 1.08392867],\n",
       "       [1.        , 0.27640882],\n",
       "       [1.        , 0.57100686],\n",
       "       [1.        , 1.63976411],\n",
       "       [1.        , 0.89810423],\n",
       "       [1.        , 1.76031351],\n",
       "       [1.        , 1.50286638],\n",
       "       [1.        , 1.29423199],\n",
       "       [1.        , 1.08039987],\n",
       "       [1.        , 0.83660807],\n",
       "       [1.        , 0.58363021],\n",
       "       [1.        , 0.08524559],\n",
       "       [1.        , 0.91575643],\n",
       "       [1.        , 1.9436717 ],\n",
       "       [1.        , 1.05919622],\n",
       "       [1.        , 0.47102435],\n",
       "       [1.        , 1.02523384],\n",
       "       [1.        , 0.14030549],\n",
       "       [1.        , 1.44143865],\n",
       "       [1.        , 0.78008948],\n",
       "       [1.        , 0.1995087 ],\n",
       "       [1.        , 0.19667546],\n",
       "       [1.        , 1.97511248],\n",
       "       [1.        , 1.76369562],\n",
       "       [1.        , 0.77778311],\n",
       "       [1.        , 1.09406825],\n",
       "       [1.        , 1.61052177],\n",
       "       [1.        , 1.08140823],\n",
       "       [1.        , 1.10002501],\n",
       "       [1.        , 1.01852087],\n",
       "       [1.        , 0.83697615],\n",
       "       [1.        , 0.04639368],\n",
       "       [1.        , 0.3051679 ],\n",
       "       [1.        , 1.87325107],\n",
       "       [1.        , 1.59764578],\n",
       "       [1.        , 1.45153741],\n",
       "       [1.        , 0.70977658],\n",
       "       [1.        , 0.08855326],\n",
       "       [1.        , 1.13052651],\n",
       "       [1.        , 0.69147228],\n",
       "       [1.        , 1.76968314],\n",
       "       [1.        , 1.94341265],\n",
       "       [1.        , 1.06214667],\n",
       "       [1.        , 1.5925306 ],\n",
       "       [1.        , 1.66448579],\n",
       "       [1.        , 1.51455999],\n",
       "       [1.        , 0.74172535],\n",
       "       [1.        , 1.75084487],\n",
       "       [1.        , 0.39368301],\n",
       "       [1.        , 0.22240314],\n",
       "       [1.        , 0.69126114],\n",
       "       [1.        , 0.66140441],\n",
       "       [1.        , 0.73510403],\n",
       "       [1.        , 1.19840165],\n",
       "       [1.        , 0.61115673],\n",
       "       [1.        , 0.18736348],\n",
       "       [1.        , 1.00750872],\n",
       "       [1.        , 1.94945944],\n",
       "       [1.        , 1.11282036],\n",
       "       [1.        , 0.75030726],\n",
       "       [1.        , 0.47532341],\n",
       "       [1.        , 0.17967928],\n",
       "       [1.        , 0.64525302],\n",
       "       [1.        , 0.41211179],\n",
       "       [1.        , 0.95427482],\n",
       "       [1.        , 1.41314409],\n",
       "       [1.        , 1.51614831],\n",
       "       [1.        , 1.94968232],\n",
       "       [1.        , 1.62787382],\n",
       "       [1.        , 0.63663822],\n",
       "       [1.        , 0.40199481],\n",
       "       [1.        , 1.587386  ],\n",
       "       [1.        , 1.75300466],\n",
       "       [1.        , 1.54739959],\n",
       "       [1.        , 1.80724192],\n",
       "       [1.        , 0.18051375],\n",
       "       [1.        , 0.54357607],\n",
       "       [1.        , 0.29235417],\n",
       "       [1.        , 1.83598974],\n",
       "       [1.        , 1.69351993],\n",
       "       [1.        , 0.48262508],\n",
       "       [1.        , 1.28041494],\n",
       "       [1.        , 1.77738589],\n",
       "       [1.        , 1.21546033],\n",
       "       [1.        , 0.11474935],\n",
       "       [1.        , 0.61037307],\n",
       "       [1.        , 1.0069177 ],\n",
       "       [1.        , 1.29123296],\n",
       "       [1.        , 1.92678334],\n",
       "       [1.        , 1.44425922],\n",
       "       [1.        , 1.22415895],\n",
       "       [1.        , 1.92608827],\n",
       "       [1.        , 1.33333878],\n",
       "       [1.        , 1.08531721],\n",
       "       [1.        , 1.60849055]])"
      ]
     },
     "execution_count": 11,
     "metadata": {},
     "output_type": "execute_result"
    }
   ],
   "execution_count": 11
  },
  {
   "metadata": {},
   "cell_type": "markdown",
   "source": "We hoped for `theta_0 = 4` and `theta_1 = 3`, but got `theta_0 = 4.060948` and `theta_1 = 2.962968`. The noise made it impossible to recover the exact params.",
   "id": "fc5f88123f46e357"
  },
  {
   "metadata": {
    "ExecuteTime": {
     "end_time": "2024-12-24T07:57:55.264294Z",
     "start_time": "2024-12-24T07:57:55.261421Z"
    }
   },
   "cell_type": "code",
   "source": [
    "X_new = np.array([[0], [2]])\n",
    "X_new_b = np.c_[np.ones((2, 1)), X_new]\n",
    "y_predict = X_new_b.dot(theta_best)\n",
    "y_predict"
   ],
   "id": "d583cb9828f0bd03",
   "outputs": [
    {
     "data": {
      "text/plain": [
       "array([[ 4.16890474],\n",
       "       [10.1957529 ]])"
      ]
     },
     "execution_count": 5,
     "metadata": {},
     "output_type": "execute_result"
    }
   ],
   "execution_count": 5
  },
  {
   "metadata": {},
   "cell_type": "markdown",
   "source": "Predictions for `X = (0, 1)` is `y = (4.060948, 9.986884)`.",
   "id": "4a5a81da3b05aa5f"
  },
  {
   "metadata": {
    "ExecuteTime": {
     "end_time": "2024-12-24T07:57:55.433407Z",
     "start_time": "2024-12-24T07:57:55.373812Z"
    }
   },
   "cell_type": "code",
   "source": [
    "plt.plot(X_new, y_predict, 'r-o')\n",
    "plt.plot(X, y, 'b.')\n",
    "plt.show()"
   ],
   "id": "b531cba2eecc7c87",
   "outputs": [
    {
     "data": {
      "text/plain": [
       "<Figure size 640x480 with 1 Axes>"
      ],
      "image/png": "[encoded data removed]"
     },
     "metadata": {},
     "output_type": "display_data"
    }
   ],
   "execution_count": 6
  },
  {
   "metadata": {},
   "cell_type": "markdown",
   "source": "### Understanding Dot and Cross product of Matrices",
   "id": "bdf16c6235fa1f10"
  },
  {
   "metadata": {
    "ExecuteTime": {
     "end_time": "2024-12-24T08:27:40.695583Z",
     "start_time": "2024-12-24T08:27:40.693225Z"
    }
   },
   "cell_type": "code",
   "source": [
    "A = np.array([\n",
    "    [1, 2, 3],\n",
    "    [4, 5, 6],\n",
    "    [7, 8, 9]\n",
    "])\n",
    "B = np.array([\n",
    "    [1, 2],\n",
    "    [1, 2],\n",
    "    [1, 2]\n",
    "])"
   ],
   "id": "923f313321000a5d",
   "outputs": [],
   "execution_count": 53
  },
  {
   "metadata": {
    "ExecuteTime": {
     "end_time": "2024-12-24T08:27:42.066311Z",
     "start_time": "2024-12-24T08:27:42.061907Z"
    }
   },
   "cell_type": "code",
   "source": "A.dot(B)",
   "id": "45614eb1e4ee9e66",
   "outputs": [
    {
     "data": {
      "text/plain": [
       "array([[ 6, 12],\n",
       "       [15, 30],\n",
       "       [24, 48]])"
      ]
     },
     "execution_count": 54,
     "metadata": {},
     "output_type": "execute_result"
    }
   ],
   "execution_count": 54
  },
  {
   "metadata": {},
   "cell_type": "markdown",
   "source": "### Understanding the Normal Equation",
   "id": "94860f55186dd5b6"
  },
  {
   "metadata": {
    "ExecuteTime": {
     "end_time": "2024-12-24T08:24:59.555992Z",
     "start_time": "2024-12-24T08:24:59.552978Z"
    }
   },
   "cell_type": "code",
   "source": [
    "Xl = np.array([1,2,3])\n",
    "y = 4 + 3 * Xl"
   ],
   "id": "818adfad171d269e",
   "outputs": [],
   "execution_count": 38
  },
  {
   "metadata": {
    "ExecuteTime": {
     "end_time": "2024-12-24T08:25:00.016323Z",
     "start_time": "2024-12-24T08:25:00.011895Z"
    }
   },
   "cell_type": "code",
   "source": "Xl",
   "id": "6c2e5223fd768dba",
   "outputs": [
    {
     "data": {
      "text/plain": [
       "array([1, 2, 3])"
      ]
     },
     "execution_count": 39,
     "metadata": {},
     "output_type": "execute_result"
    }
   ],
   "execution_count": 39
  },
  {
   "metadata": {
    "ExecuteTime": {
     "end_time": "2024-12-24T08:25:00.552145Z",
     "start_time": "2024-12-24T08:25:00.548523Z"
    }
   },
   "cell_type": "code",
   "source": "y",
   "id": "5488d10ffd27857d",
   "outputs": [
    {
     "data": {
      "text/plain": [
       "array([ 7, 10, 13])"
      ]
     },
     "execution_count": 40,
     "metadata": {},
     "output_type": "execute_result"
    }
   ],
   "execution_count": 40
  },
  {
   "metadata": {
    "ExecuteTime": {
     "end_time": "2024-12-24T08:25:05.068135Z",
     "start_time": "2024-12-24T08:25:05.063609Z"
    }
   },
   "cell_type": "code",
   "source": [
    "Xl_b = np.c_[np.ones((3, 1)), Xl]\n",
    "Xl_b"
   ],
   "id": "697dba94f7c82ad5",
   "outputs": [
    {
     "data": {
      "text/plain": [
       "array([[1., 1.],\n",
       "       [1., 2.],\n",
       "       [1., 3.]])"
      ]
     },
     "execution_count": 41,
     "metadata": {},
     "output_type": "execute_result"
    }
   ],
   "execution_count": 41
  },
  {
   "metadata": {
    "ExecuteTime": {
     "end_time": "2024-12-24T08:25:06.703918Z",
     "start_time": "2024-12-24T08:25:06.699439Z"
    }
   },
   "cell_type": "code",
   "source": "Xl_b.T",
   "id": "51d65027dd5da357",
   "outputs": [
    {
     "data": {
      "text/plain": [
       "array([[1., 1., 1.],\n",
       "       [1., 2., 3.]])"
      ]
     },
     "execution_count": 42,
     "metadata": {},
     "output_type": "execute_result"
    }
   ],
   "execution_count": 42
  },
  {
   "metadata": {
    "ExecuteTime": {
     "end_time": "2024-12-24T08:25:07.708235Z",
     "start_time": "2024-12-24T08:25:07.705116Z"
    }
   },
   "cell_type": "code",
   "source": "Xl_b.T.dot(Xl_b)",
   "id": "1fee7f78d9aa006",
   "outputs": [
    {
     "data": {
      "text/plain": [
       "array([[ 3.,  6.],\n",
       "       [ 6., 14.]])"
      ]
     },
     "execution_count": 43,
     "metadata": {},
     "output_type": "execute_result"
    }
   ],
   "execution_count": 43
  },
  {
   "metadata": {
    "ExecuteTime": {
     "end_time": "2024-12-24T08:25:08.883396Z",
     "start_time": "2024-12-24T08:25:08.878968Z"
    }
   },
   "cell_type": "code",
   "source": "np.linalg.inv(Xl_b.T.dot(Xl_b))",
   "id": "1848b22c5e42232b",
   "outputs": [
    {
     "data": {
      "text/plain": [
       "array([[ 2.33333333, -1.        ],\n",
       "       [-1.        ,  0.5       ]])"
      ]
     },
     "execution_count": 44,
     "metadata": {},
     "output_type": "execute_result"
    }
   ],
   "execution_count": 44
  },
  {
   "metadata": {
    "ExecuteTime": {
     "end_time": "2024-12-24T08:25:10.019408Z",
     "start_time": "2024-12-24T08:25:10.014984Z"
    }
   },
   "cell_type": "code",
   "source": "np.linalg.inv(Xl_b.T.dot(Xl_b)).dot(Xl_b.T)",
   "id": "25d24584a04d4d14",
   "outputs": [
    {
     "data": {
      "text/plain": [
       "array([[ 1.33333333,  0.33333333, -0.66666667],\n",
       "       [-0.5       ,  0.        ,  0.5       ]])"
      ]
     },
     "execution_count": 45,
     "metadata": {},
     "output_type": "execute_result"
    }
   ],
   "execution_count": 45
  },
  {
   "metadata": {
    "ExecuteTime": {
     "end_time": "2024-12-24T08:30:51.836239Z",
     "start_time": "2024-12-24T08:30:51.830651Z"
    }
   },
   "cell_type": "code",
   "source": "np.linalg.inv(Xl_b.T.dot(Xl_b)).dot(Xl_b.T).dot(y)",
   "id": "52c27d4e57cd6ac4",
   "outputs": [
    {
     "data": {
      "text/plain": [
       "array([4., 3.])"
      ]
     },
     "execution_count": 55,
     "metadata": {},
     "output_type": "execute_result"
    }
   ],
   "execution_count": 55
  },
  {
   "metadata": {},
   "cell_type": "markdown",
   "source": [
    "### Linear Regression using Scikit-Learn\n",
    "\n",
    "The same Linear Regression using Scikit-Learn:"
   ],
   "id": "aafa50de97439856"
  },
  {
   "metadata": {
    "ExecuteTime": {
     "end_time": "2024-12-24T07:57:56.135927Z",
     "start_time": "2024-12-24T07:57:55.492374Z"
    }
   },
   "cell_type": "code",
   "source": [
    "from sklearn.linear_model import LinearRegression\n",
    "lin_reg = LinearRegression()\n",
    "lin_reg.fit(X, y)\n",
    "lin_reg.intercept_, lin_reg.coef_"
   ],
   "id": "f0ab768e6c03dc2a",
   "outputs": [
    {
     "data": {
      "text/plain": [
       "(array([4.16890474]), array([[3.01342408]]))"
      ]
     },
     "execution_count": 7,
     "metadata": {},
     "output_type": "execute_result"
    }
   ],
   "execution_count": 7
  },
  {
   "metadata": {},
   "cell_type": "markdown",
   "source": "The above is the `theta_0` and `theta_1`.",
   "id": "293cb04ae97cd977"
  },
  {
   "metadata": {
    "ExecuteTime": {
     "end_time": "2024-12-24T07:57:56.164524Z",
     "start_time": "2024-12-24T07:57:56.161927Z"
    }
   },
   "cell_type": "code",
   "source": [
    "sk_y_predict = lin_reg.predict(X_new)\n",
    "sk_y_predict"
   ],
   "id": "3995600234face65",
   "outputs": [
    {
     "data": {
      "text/plain": [
       "array([[ 4.16890474],\n",
       "       [10.1957529 ]])"
      ]
     },
     "execution_count": 8,
     "metadata": {},
     "output_type": "execute_result"
    }
   ],
   "execution_count": 8
  },
  {
   "metadata": {},
   "cell_type": "markdown",
   "source": "Predictions for `X = (0, 1)` is `y = (4.060948, 9.986884)`.",
   "id": "67f970755a9ac1de"
  },
  {
   "metadata": {
    "ExecuteTime": {
     "end_time": "2024-12-24T07:57:56.327339Z",
     "start_time": "2024-12-24T07:57:56.201033Z"
    }
   },
   "cell_type": "code",
   "source": [
    "plt.subplot(1, 2, 1).plot(X_new, sk_y_predict, 'r-o')\n",
    "plt.subplot(1, 2, 1).plot(X, y, 'b.')\n",
    "plt.subplot(1, 2, 1).set_title('Scikit-Learn')\n",
    "plt.subplot(1, 2, 2).plot(X_new, y_predict, 'r-o')\n",
    "plt.subplot(1, 2, 2).plot(X, y, 'b.')\n",
    "plt.subplot(1, 2, 2).set_title('Normal Equation')\n",
    "plt.tight_layout()\n",
    "plt.show()"
   ],
   "id": "e22df73392ada3ab",
   "outputs": [
    {
     "data": {
      "text/plain": [
       "<Figure size 640x480 with 2 Axes>"
      ],
      "image/png": "[encoded data removed]"
     },
     "metadata": {},
     "output_type": "display_data"
    }
   ],
   "execution_count": 9
  },
  {
   "metadata": {},
   "cell_type": "markdown",
   "source": [
    "## Gradient Descent\n",
    "\n",
    "Gradient Descent is a generic optimisation algorithm capable of finding optimal solutions to a wide range of problems. The general idea of GD is to tweak parameters iteratively in order to minimise a Cost function.\n",
    "\n",
    "> When using Gradient Descent, you should ensure that all features\n",
    "have a similar scale (e.g., using Scikit-Learn’s StandardScaler\n",
    "class), or else it will take much longer to converge."
   ],
   "id": "e746d6ac453a3fb2"
  },
  {
   "metadata": {},
   "cell_type": "markdown",
   "source": [
    "### Batch Gradient Descent\n",
    "\n",
    "![PDE of Cost function](img/pde-of-cost-fn.png)\n",
    "\n",
    "To implement GD, you need to compute the gradient of the `Cost function` in regard to each model parameter `Theta_j`. You need to calculate how much the `Cost function` will change if you change `Theta_j` just a little bit."
   ],
   "id": "8dcdee09ea86ca25"
  },
  {
   "metadata": {
    "ExecuteTime": {
     "end_time": "2024-12-24T07:57:56.355154Z",
     "start_time": "2024-12-24T07:57:56.353570Z"
    }
   },
   "cell_type": "code",
   "source": "",
   "id": "c647782892d3cb2d",
   "outputs": [],
   "execution_count": null
  }
 ],
 "metadata": {
  "kernelspec": {
   "display_name": "Python 3",
   "language": "python",
   "name": "python3"
  },
  "language_info": {
   "codemirror_mode": {
    "name": "ipython",
    "version": 2
   },
   "file_extension": ".py",
   "mimetype": "text/x-python",
   "name": "python",
   "nbconvert_exporter": "python",
   "pygments_lexer": "ipython2",
   "version": "2.7.6"
  }
 },
 "nbformat": 4,
 "nbformat_minor": 5
}
